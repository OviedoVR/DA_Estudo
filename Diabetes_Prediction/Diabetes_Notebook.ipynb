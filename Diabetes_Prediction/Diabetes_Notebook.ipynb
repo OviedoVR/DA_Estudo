{
  "nbformat": 4,
  "nbformat_minor": 0,
  "metadata": {
    "colab": {
      "name": "Diabetes_Notebook.ipynb",
      "provenance": [],
      "collapsed_sections": [
        "FrgArl9VI96P"
      ],
      "authorship_tag": "ABX9TyOeOYQoIgV85g21cwpo0N1o",
      "include_colab_link": true
    },
    "kernelspec": {
      "name": "python3",
      "display_name": "Python 3"
    },
    "language_info": {
      "name": "python"
    }
  },
  "cells": [
    {
      "cell_type": "markdown",
      "metadata": {
        "id": "view-in-github",
        "colab_type": "text"
      },
      "source": [
        "<a href=\"https://colab.research.google.com/github/OviedoVR/PredicaoDiabetes/blob/main/Diabetes_Notebook.ipynb\" target=\"_parent\"><img src=\"https://colab.research.google.com/assets/colab-badge.svg\" alt=\"Open In Colab\"/></a>"
      ]
    },
    {
      "cell_type": "markdown",
      "source": [
        "# **É possível prever *diabetes* com uma boa precisão?**\n",
        "\n",
        "Neste *notebook Python*, vamos responder a esta pergunta utilizado a metodologia **CRISP-DM**.\n",
        "\n",
        "Etapas do projeto:\n",
        "\n",
        "\n",
        "1.   **Entendimento do negócio**\n",
        "2.   **Entendimento dos dados**\n",
        "3.   **Preparação dos dados**\n",
        "4.   **Modelagem dos dados**\n",
        "5.   **Aplicação do modelo**\n",
        "6.   **Deploy**"
      ],
      "metadata": {
        "id": "HxdtXjKgH0AV"
      }
    },
    {
      "cell_type": "markdown",
      "source": [
        "# **1. Entendimento do negócio**\n",
        "\n",
        "**Objetivo:** obter um modelo para prever se um paciente tem diabetes ou não, com acurácia maior ou igual a 70%."
      ],
      "metadata": {
        "id": "FrgArl9VI96P"
      }
    },
    {
      "cell_type": "markdown",
      "source": [
        "# **2. Entendimento dos dados**\n",
        "\n",
        "**Dados:** planilha com pacientes contendo nível de LDL, glicose, HDL, idade, gênero, altura, massa, IMC, pressão sanguínea sistólica e diastólica, medida da cintura e medida do quadril.\n",
        "\n",
        "Aqui será realizada a **Análise Exploratória dos Dados** (EDA).\n",
        "\n",
        "---"
      ],
      "metadata": {
        "id": "Bf5HqDoOJU2P"
      }
    },
    {
      "cell_type": "markdown",
      "source": [
        "> **Configurações**"
      ],
      "metadata": {
        "id": "2eRvi7Z1MuPP"
      }
    },
    {
      "cell_type": "code",
      "source": [
        "import pandas as pd\n",
        "import numpy as np\n",
        "\n",
        "import matplotlib.pyplot as plt\n",
        "import seaborn as sns\n",
        "\n",
        "import warnings\n",
        "warnings.filterwarnings(\"ignore\")"
      ],
      "metadata": {
        "id": "kjlvkIF_MxJ_"
      },
      "execution_count": 1,
      "outputs": []
    },
    {
      "cell_type": "code",
      "source": [
        "#estilizando os gráficos\n",
        "# from IPython import display\n",
        "# display.set_matplotlib_formats('svg')\n",
        "from pylab import *\n",
        "rc('axes', linewidth=1.5)\n",
        "\n",
        "plt.rcParams['xtick.major.size'] = 6\n",
        "plt.rcParams['xtick.major.width'] = 1.5\n",
        "plt.rcParams['xtick.minor.size'] = 2\n",
        "plt.rcParams['xtick.minor.width'] = 1.5\n",
        "plt.rcParams['ytick.major.size'] = 6\n",
        "plt.rcParams['ytick.major.width'] = 1.5\n",
        "plt.rcParams['ytick.minor.size'] = 2\n",
        "plt.rcParams['ytick.minor.width'] = 1.5\n",
        "\n",
        "plt.rcParams[\"font.weight\"] = \"bold\"\n",
        "plt.rcParams[\"axes.labelweight\"] = \"bold\""
      ],
      "metadata": {
        "id": "c6EL4VhiN6G7"
      },
      "execution_count": 2,
      "outputs": []
    },
    {
      "cell_type": "code",
      "source": [
        "# Configs. adicionais\n",
        "%matplotlib inline\n",
        "sns.set_context('notebook')\n",
        "%config InlineBackend.figure_format = 'png'"
      ],
      "metadata": {
        "id": "ujrpJu2OfybX"
      },
      "execution_count": 3,
      "outputs": []
    },
    {
      "cell_type": "markdown",
      "source": [
        "> **Coletando os dados**"
      ],
      "metadata": {
        "id": "3d1gS7D4MrcU"
      }
    },
    {
      "cell_type": "code",
      "source": [
        "dados = pd.read_csv('diabetes.csv')\n",
        "dados.head(3)"
      ],
      "metadata": {
        "colab": {
          "base_uri": "https://localhost:8080/",
          "height": 260
        },
        "id": "QMB5cyUmKXgU",
        "outputId": "86f3033e-55c4-49d1-be66-52640da6260c"
      },
      "execution_count": 4,
      "outputs": [
        {
          "output_type": "execute_result",
          "data": {
            "text/html": [
              "\n",
              "  <div id=\"df-123a3707-8f5c-4eb0-8db6-21e630b10bfc\">\n",
              "    <div class=\"colab-df-container\">\n",
              "      <div>\n",
              "<style scoped>\n",
              "    .dataframe tbody tr th:only-of-type {\n",
              "        vertical-align: middle;\n",
              "    }\n",
              "\n",
              "    .dataframe tbody tr th {\n",
              "        vertical-align: top;\n",
              "    }\n",
              "\n",
              "    .dataframe thead th {\n",
              "        text-align: right;\n",
              "    }\n",
              "</style>\n",
              "<table border=\"1\" class=\"dataframe\">\n",
              "  <thead>\n",
              "    <tr style=\"text-align: right;\">\n",
              "      <th></th>\n",
              "      <th>patient_number</th>\n",
              "      <th>cholesterol</th>\n",
              "      <th>glucose</th>\n",
              "      <th>hdl_chol</th>\n",
              "      <th>chol_hdl_ratio</th>\n",
              "      <th>age</th>\n",
              "      <th>gender</th>\n",
              "      <th>height</th>\n",
              "      <th>weight</th>\n",
              "      <th>bmi</th>\n",
              "      <th>systolic_bp</th>\n",
              "      <th>diastolic_bp</th>\n",
              "      <th>waist</th>\n",
              "      <th>hip</th>\n",
              "      <th>waist_hip_ratio</th>\n",
              "      <th>diabetes</th>\n",
              "    </tr>\n",
              "  </thead>\n",
              "  <tbody>\n",
              "    <tr>\n",
              "      <th>0</th>\n",
              "      <td>1</td>\n",
              "      <td>193</td>\n",
              "      <td>77</td>\n",
              "      <td>49</td>\n",
              "      <td>3,9</td>\n",
              "      <td>19</td>\n",
              "      <td>female</td>\n",
              "      <td>61</td>\n",
              "      <td>119</td>\n",
              "      <td>22,5</td>\n",
              "      <td>118</td>\n",
              "      <td>70</td>\n",
              "      <td>32</td>\n",
              "      <td>38</td>\n",
              "      <td>0,84</td>\n",
              "      <td>No diabetes</td>\n",
              "    </tr>\n",
              "    <tr>\n",
              "      <th>1</th>\n",
              "      <td>2</td>\n",
              "      <td>146</td>\n",
              "      <td>79</td>\n",
              "      <td>41</td>\n",
              "      <td>3,6</td>\n",
              "      <td>19</td>\n",
              "      <td>female</td>\n",
              "      <td>60</td>\n",
              "      <td>135</td>\n",
              "      <td>26,4</td>\n",
              "      <td>108</td>\n",
              "      <td>58</td>\n",
              "      <td>33</td>\n",
              "      <td>40</td>\n",
              "      <td>0,83</td>\n",
              "      <td>No diabetes</td>\n",
              "    </tr>\n",
              "    <tr>\n",
              "      <th>2</th>\n",
              "      <td>3</td>\n",
              "      <td>217</td>\n",
              "      <td>75</td>\n",
              "      <td>54</td>\n",
              "      <td>4</td>\n",
              "      <td>20</td>\n",
              "      <td>female</td>\n",
              "      <td>67</td>\n",
              "      <td>187</td>\n",
              "      <td>29,3</td>\n",
              "      <td>110</td>\n",
              "      <td>72</td>\n",
              "      <td>40</td>\n",
              "      <td>45</td>\n",
              "      <td>0,89</td>\n",
              "      <td>No diabetes</td>\n",
              "    </tr>\n",
              "  </tbody>\n",
              "</table>\n",
              "</div>\n",
              "      <button class=\"colab-df-convert\" onclick=\"convertToInteractive('df-123a3707-8f5c-4eb0-8db6-21e630b10bfc')\"\n",
              "              title=\"Convert this dataframe to an interactive table.\"\n",
              "              style=\"display:none;\">\n",
              "        \n",
              "  <svg xmlns=\"http://www.w3.org/2000/svg\" height=\"24px\"viewBox=\"0 0 24 24\"\n",
              "       width=\"24px\">\n",
              "    <path d=\"M0 0h24v24H0V0z\" fill=\"none\"/>\n",
              "    <path d=\"M18.56 5.44l.94 2.06.94-2.06 2.06-.94-2.06-.94-.94-2.06-.94 2.06-2.06.94zm-11 1L8.5 8.5l.94-2.06 2.06-.94-2.06-.94L8.5 2.5l-.94 2.06-2.06.94zm10 10l.94 2.06.94-2.06 2.06-.94-2.06-.94-.94-2.06-.94 2.06-2.06.94z\"/><path d=\"M17.41 7.96l-1.37-1.37c-.4-.4-.92-.59-1.43-.59-.52 0-1.04.2-1.43.59L10.3 9.45l-7.72 7.72c-.78.78-.78 2.05 0 2.83L4 21.41c.39.39.9.59 1.41.59.51 0 1.02-.2 1.41-.59l7.78-7.78 2.81-2.81c.8-.78.8-2.07 0-2.86zM5.41 20L4 18.59l7.72-7.72 1.47 1.35L5.41 20z\"/>\n",
              "  </svg>\n",
              "      </button>\n",
              "      \n",
              "  <style>\n",
              "    .colab-df-container {\n",
              "      display:flex;\n",
              "      flex-wrap:wrap;\n",
              "      gap: 12px;\n",
              "    }\n",
              "\n",
              "    .colab-df-convert {\n",
              "      background-color: #E8F0FE;\n",
              "      border: none;\n",
              "      border-radius: 50%;\n",
              "      cursor: pointer;\n",
              "      display: none;\n",
              "      fill: #1967D2;\n",
              "      height: 32px;\n",
              "      padding: 0 0 0 0;\n",
              "      width: 32px;\n",
              "    }\n",
              "\n",
              "    .colab-df-convert:hover {\n",
              "      background-color: #E2EBFA;\n",
              "      box-shadow: 0px 1px 2px rgba(60, 64, 67, 0.3), 0px 1px 3px 1px rgba(60, 64, 67, 0.15);\n",
              "      fill: #174EA6;\n",
              "    }\n",
              "\n",
              "    [theme=dark] .colab-df-convert {\n",
              "      background-color: #3B4455;\n",
              "      fill: #D2E3FC;\n",
              "    }\n",
              "\n",
              "    [theme=dark] .colab-df-convert:hover {\n",
              "      background-color: #434B5C;\n",
              "      box-shadow: 0px 1px 3px 1px rgba(0, 0, 0, 0.15);\n",
              "      filter: drop-shadow(0px 1px 2px rgba(0, 0, 0, 0.3));\n",
              "      fill: #FFFFFF;\n",
              "    }\n",
              "  </style>\n",
              "\n",
              "      <script>\n",
              "        const buttonEl =\n",
              "          document.querySelector('#df-123a3707-8f5c-4eb0-8db6-21e630b10bfc button.colab-df-convert');\n",
              "        buttonEl.style.display =\n",
              "          google.colab.kernel.accessAllowed ? 'block' : 'none';\n",
              "\n",
              "        async function convertToInteractive(key) {\n",
              "          const element = document.querySelector('#df-123a3707-8f5c-4eb0-8db6-21e630b10bfc');\n",
              "          const dataTable =\n",
              "            await google.colab.kernel.invokeFunction('convertToInteractive',\n",
              "                                                     [key], {});\n",
              "          if (!dataTable) return;\n",
              "\n",
              "          const docLinkHtml = 'Like what you see? Visit the ' +\n",
              "            '<a target=\"_blank\" href=https://colab.research.google.com/notebooks/data_table.ipynb>data table notebook</a>'\n",
              "            + ' to learn more about interactive tables.';\n",
              "          element.innerHTML = '';\n",
              "          dataTable['output_type'] = 'display_data';\n",
              "          await google.colab.output.renderOutput(dataTable, element);\n",
              "          const docLink = document.createElement('div');\n",
              "          docLink.innerHTML = docLinkHtml;\n",
              "          element.appendChild(docLink);\n",
              "        }\n",
              "      </script>\n",
              "    </div>\n",
              "  </div>\n",
              "  "
            ],
            "text/plain": [
              "   patient_number  cholesterol  glucose  ...  hip waist_hip_ratio     diabetes\n",
              "0               1          193       77  ...   38            0,84  No diabetes\n",
              "1               2          146       79  ...   40            0,83  No diabetes\n",
              "2               3          217       75  ...   45            0,89  No diabetes\n",
              "\n",
              "[3 rows x 16 columns]"
            ]
          },
          "metadata": {},
          "execution_count": 4
        }
      ]
    },
    {
      "cell_type": "markdown",
      "source": [
        "> **Renomeando as colunas**"
      ],
      "metadata": {
        "id": "WRegxvfpNAJT"
      }
    },
    {
      "cell_type": "code",
      "source": [
        "dados.columns"
      ],
      "metadata": {
        "colab": {
          "base_uri": "https://localhost:8080/"
        },
        "id": "xq7isTSvNKdc",
        "outputId": "492d3cb7-2e3f-432c-80d4-4b9ce76ce482"
      },
      "execution_count": 5,
      "outputs": [
        {
          "output_type": "execute_result",
          "data": {
            "text/plain": [
              "Index(['patient_number', 'cholesterol', 'glucose', 'hdl_chol',\n",
              "       'chol_hdl_ratio', 'age', 'gender', 'height', 'weight', 'bmi',\n",
              "       'systolic_bp', 'diastolic_bp', 'waist', 'hip', 'waist_hip_ratio',\n",
              "       'diabetes'],\n",
              "      dtype='object')"
            ]
          },
          "metadata": {},
          "execution_count": 5
        }
      ]
    },
    {
      "cell_type": "code",
      "source": [
        "dados.rename(columns=\n",
        "        {'patient_number': 'n_paciente', \n",
        "        'cholesterol': 'ldl',\n",
        "        'glucose': 'glicose', \n",
        "        'hdl_chol': 'hdl',\n",
        "        'chol_hdl_ratio': 'razao_ldl_hdl',\n",
        "         'age': 'idade', \n",
        "         'gender': 'genero', \n",
        "         'height': 'altura', \n",
        "         'weight': 'massa',\n",
        "         'bmi': 'imc',\n",
        "         'systolic_bp': 'ps_sistole', \n",
        "         'diastolic_bp': 'ps_diastole', \n",
        "         'waist': 'medida_cintura', \n",
        "         'hip': 'medida_quadril', \n",
        "         'waist_hip_ratio': 'razao_cint_quad'\n",
        "        }, inplace = True\n",
        ")\n",
        "\n",
        "dados.tail(2)"
      ],
      "metadata": {
        "colab": {
          "base_uri": "https://localhost:8080/",
          "height": 193
        },
        "id": "vogyWY77M_Zx",
        "outputId": "1f0fb1b2-bfe3-4cfe-dcc1-fb535f7207fd"
      },
      "execution_count": 6,
      "outputs": [
        {
          "output_type": "execute_result",
          "data": {
            "text/html": [
              "\n",
              "  <div id=\"df-dd4a78f1-f665-4b36-b201-f287c9385af8\">\n",
              "    <div class=\"colab-df-container\">\n",
              "      <div>\n",
              "<style scoped>\n",
              "    .dataframe tbody tr th:only-of-type {\n",
              "        vertical-align: middle;\n",
              "    }\n",
              "\n",
              "    .dataframe tbody tr th {\n",
              "        vertical-align: top;\n",
              "    }\n",
              "\n",
              "    .dataframe thead th {\n",
              "        text-align: right;\n",
              "    }\n",
              "</style>\n",
              "<table border=\"1\" class=\"dataframe\">\n",
              "  <thead>\n",
              "    <tr style=\"text-align: right;\">\n",
              "      <th></th>\n",
              "      <th>n_paciente</th>\n",
              "      <th>ldl</th>\n",
              "      <th>glicose</th>\n",
              "      <th>hdl</th>\n",
              "      <th>razao_ldl_hdl</th>\n",
              "      <th>idade</th>\n",
              "      <th>genero</th>\n",
              "      <th>altura</th>\n",
              "      <th>massa</th>\n",
              "      <th>imc</th>\n",
              "      <th>ps_sistole</th>\n",
              "      <th>ps_diastole</th>\n",
              "      <th>medida_cintura</th>\n",
              "      <th>medida_quadril</th>\n",
              "      <th>razao_cint_quad</th>\n",
              "      <th>diabetes</th>\n",
              "    </tr>\n",
              "  </thead>\n",
              "  <tbody>\n",
              "    <tr>\n",
              "      <th>388</th>\n",
              "      <td>389</td>\n",
              "      <td>232</td>\n",
              "      <td>184</td>\n",
              "      <td>114</td>\n",
              "      <td>2</td>\n",
              "      <td>91</td>\n",
              "      <td>female</td>\n",
              "      <td>61</td>\n",
              "      <td>127</td>\n",
              "      <td>24</td>\n",
              "      <td>170</td>\n",
              "      <td>82</td>\n",
              "      <td>35</td>\n",
              "      <td>38</td>\n",
              "      <td>0,92</td>\n",
              "      <td>Diabetes</td>\n",
              "    </tr>\n",
              "    <tr>\n",
              "      <th>389</th>\n",
              "      <td>390</td>\n",
              "      <td>165</td>\n",
              "      <td>94</td>\n",
              "      <td>69</td>\n",
              "      <td>2,4</td>\n",
              "      <td>92</td>\n",
              "      <td>female</td>\n",
              "      <td>62</td>\n",
              "      <td>217</td>\n",
              "      <td>39,7</td>\n",
              "      <td>160</td>\n",
              "      <td>82</td>\n",
              "      <td>51</td>\n",
              "      <td>51</td>\n",
              "      <td>1</td>\n",
              "      <td>No diabetes</td>\n",
              "    </tr>\n",
              "  </tbody>\n",
              "</table>\n",
              "</div>\n",
              "      <button class=\"colab-df-convert\" onclick=\"convertToInteractive('df-dd4a78f1-f665-4b36-b201-f287c9385af8')\"\n",
              "              title=\"Convert this dataframe to an interactive table.\"\n",
              "              style=\"display:none;\">\n",
              "        \n",
              "  <svg xmlns=\"http://www.w3.org/2000/svg\" height=\"24px\"viewBox=\"0 0 24 24\"\n",
              "       width=\"24px\">\n",
              "    <path d=\"M0 0h24v24H0V0z\" fill=\"none\"/>\n",
              "    <path d=\"M18.56 5.44l.94 2.06.94-2.06 2.06-.94-2.06-.94-.94-2.06-.94 2.06-2.06.94zm-11 1L8.5 8.5l.94-2.06 2.06-.94-2.06-.94L8.5 2.5l-.94 2.06-2.06.94zm10 10l.94 2.06.94-2.06 2.06-.94-2.06-.94-.94-2.06-.94 2.06-2.06.94z\"/><path d=\"M17.41 7.96l-1.37-1.37c-.4-.4-.92-.59-1.43-.59-.52 0-1.04.2-1.43.59L10.3 9.45l-7.72 7.72c-.78.78-.78 2.05 0 2.83L4 21.41c.39.39.9.59 1.41.59.51 0 1.02-.2 1.41-.59l7.78-7.78 2.81-2.81c.8-.78.8-2.07 0-2.86zM5.41 20L4 18.59l7.72-7.72 1.47 1.35L5.41 20z\"/>\n",
              "  </svg>\n",
              "      </button>\n",
              "      \n",
              "  <style>\n",
              "    .colab-df-container {\n",
              "      display:flex;\n",
              "      flex-wrap:wrap;\n",
              "      gap: 12px;\n",
              "    }\n",
              "\n",
              "    .colab-df-convert {\n",
              "      background-color: #E8F0FE;\n",
              "      border: none;\n",
              "      border-radius: 50%;\n",
              "      cursor: pointer;\n",
              "      display: none;\n",
              "      fill: #1967D2;\n",
              "      height: 32px;\n",
              "      padding: 0 0 0 0;\n",
              "      width: 32px;\n",
              "    }\n",
              "\n",
              "    .colab-df-convert:hover {\n",
              "      background-color: #E2EBFA;\n",
              "      box-shadow: 0px 1px 2px rgba(60, 64, 67, 0.3), 0px 1px 3px 1px rgba(60, 64, 67, 0.15);\n",
              "      fill: #174EA6;\n",
              "    }\n",
              "\n",
              "    [theme=dark] .colab-df-convert {\n",
              "      background-color: #3B4455;\n",
              "      fill: #D2E3FC;\n",
              "    }\n",
              "\n",
              "    [theme=dark] .colab-df-convert:hover {\n",
              "      background-color: #434B5C;\n",
              "      box-shadow: 0px 1px 3px 1px rgba(0, 0, 0, 0.15);\n",
              "      filter: drop-shadow(0px 1px 2px rgba(0, 0, 0, 0.3));\n",
              "      fill: #FFFFFF;\n",
              "    }\n",
              "  </style>\n",
              "\n",
              "      <script>\n",
              "        const buttonEl =\n",
              "          document.querySelector('#df-dd4a78f1-f665-4b36-b201-f287c9385af8 button.colab-df-convert');\n",
              "        buttonEl.style.display =\n",
              "          google.colab.kernel.accessAllowed ? 'block' : 'none';\n",
              "\n",
              "        async function convertToInteractive(key) {\n",
              "          const element = document.querySelector('#df-dd4a78f1-f665-4b36-b201-f287c9385af8');\n",
              "          const dataTable =\n",
              "            await google.colab.kernel.invokeFunction('convertToInteractive',\n",
              "                                                     [key], {});\n",
              "          if (!dataTable) return;\n",
              "\n",
              "          const docLinkHtml = 'Like what you see? Visit the ' +\n",
              "            '<a target=\"_blank\" href=https://colab.research.google.com/notebooks/data_table.ipynb>data table notebook</a>'\n",
              "            + ' to learn more about interactive tables.';\n",
              "          element.innerHTML = '';\n",
              "          dataTable['output_type'] = 'display_data';\n",
              "          await google.colab.output.renderOutput(dataTable, element);\n",
              "          const docLink = document.createElement('div');\n",
              "          docLink.innerHTML = docLinkHtml;\n",
              "          element.appendChild(docLink);\n",
              "        }\n",
              "      </script>\n",
              "    </div>\n",
              "  </div>\n",
              "  "
            ],
            "text/plain": [
              "     n_paciente  ldl  glicose  ...  medida_quadril razao_cint_quad     diabetes\n",
              "388         389  232      184  ...              38            0,92     Diabetes\n",
              "389         390  165       94  ...              51               1  No diabetes\n",
              "\n",
              "[2 rows x 16 columns]"
            ]
          },
          "metadata": {},
          "execution_count": 6
        }
      ]
    },
    {
      "cell_type": "markdown",
      "source": [
        "> **Checando as informações do conjunto de dados**"
      ],
      "metadata": {
        "id": "In4p629hOHz2"
      }
    },
    {
      "cell_type": "code",
      "source": [
        "dados.info()"
      ],
      "metadata": {
        "colab": {
          "base_uri": "https://localhost:8080/"
        },
        "id": "3xGwxBv8OHlb",
        "outputId": "645b6ad0-304f-4ac2-d9d1-8f5904026ec7"
      },
      "execution_count": 7,
      "outputs": [
        {
          "output_type": "stream",
          "name": "stdout",
          "text": [
            "<class 'pandas.core.frame.DataFrame'>\n",
            "RangeIndex: 390 entries, 0 to 389\n",
            "Data columns (total 16 columns):\n",
            " #   Column           Non-Null Count  Dtype \n",
            "---  ------           --------------  ----- \n",
            " 0   n_paciente       390 non-null    int64 \n",
            " 1   ldl              390 non-null    int64 \n",
            " 2   glicose          390 non-null    int64 \n",
            " 3   hdl              390 non-null    int64 \n",
            " 4   razao_ldl_hdl    390 non-null    object\n",
            " 5   idade            390 non-null    int64 \n",
            " 6   genero           390 non-null    object\n",
            " 7   altura           390 non-null    int64 \n",
            " 8   massa            390 non-null    int64 \n",
            " 9   imc              390 non-null    object\n",
            " 10  ps_sistole       390 non-null    int64 \n",
            " 11  ps_diastole      390 non-null    int64 \n",
            " 12  medida_cintura   390 non-null    int64 \n",
            " 13  medida_quadril   390 non-null    int64 \n",
            " 14  razao_cint_quad  390 non-null    object\n",
            " 15  diabetes         390 non-null    object\n",
            "dtypes: int64(11), object(5)\n",
            "memory usage: 48.9+ KB\n"
          ]
        }
      ]
    },
    {
      "cell_type": "markdown",
      "source": [
        "Podemos ver que o conjunto de dados tem **390 linhas** (cada uma representa um paciente) e **16 colunas** (cada uma representa um variável)."
      ],
      "metadata": {
        "id": "Bm50mW1HOSxu"
      }
    },
    {
      "cell_type": "markdown",
      "source": [
        "A coluna ***diabetes*** informa se o paciente tem ou não diabetes. Podemos notar que a coluna *imc* está como texto, então precisamos convertê-la para número decimal (*float*). Isso também se aplica as colunas **razao_ldl_hdl** e **razao_cint_quad**."
      ],
      "metadata": {
        "id": "1jXkuxuGVPt_"
      }
    },
    {
      "cell_type": "code",
      "source": [
        "dados['imc'] = dados[['imc']].applymap(lambda valor: str(valor).replace(',', '.'))\n",
        "dados['imc'] = dados['imc'].astype('float64')\n",
        "\n",
        "dados['razao_ldl_hdl'] = dados[['razao_ldl_hdl']].applymap(lambda valor: str(valor).replace(',', '.'))\n",
        "dados['razao_ldl_hdl'] = dados['razao_ldl_hdl'].astype('float64')\n",
        "\n",
        "\n",
        "dados['razao_cint_quad'] = dados[['razao_cint_quad']].applymap(lambda valor: str(valor).replace(',', '.'))\n",
        "dados['razao_cint_quad'] = dados['razao_cint_quad'].astype('float64')"
      ],
      "metadata": {
        "id": "akhaxBpqSdS8"
      },
      "execution_count": 8,
      "outputs": []
    },
    {
      "cell_type": "markdown",
      "source": [
        "Ainda, podemos notar que não exsitem valores nulos, o que pode ser confirmado no código abaixo:"
      ],
      "metadata": {
        "id": "V0AKXJ4ZSZby"
      }
    },
    {
      "cell_type": "code",
      "source": [
        "# calcula a porcentagem de dados nulos em cada coluna:\n",
        "dados.isnull().sum()/len(dados)  * 100 "
      ],
      "metadata": {
        "colab": {
          "base_uri": "https://localhost:8080/"
        },
        "id": "vi5xSK4bOSYs",
        "outputId": "e569be50-f0ea-4cb2-d73c-7d5d434853aa"
      },
      "execution_count": 9,
      "outputs": [
        {
          "output_type": "execute_result",
          "data": {
            "text/plain": [
              "n_paciente         0.0\n",
              "ldl                0.0\n",
              "glicose            0.0\n",
              "hdl                0.0\n",
              "razao_ldl_hdl      0.0\n",
              "idade              0.0\n",
              "genero             0.0\n",
              "altura             0.0\n",
              "massa              0.0\n",
              "imc                0.0\n",
              "ps_sistole         0.0\n",
              "ps_diastole        0.0\n",
              "medida_cintura     0.0\n",
              "medida_quadril     0.0\n",
              "razao_cint_quad    0.0\n",
              "diabetes           0.0\n",
              "dtype: float64"
            ]
          },
          "metadata": {},
          "execution_count": 9
        }
      ]
    },
    {
      "cell_type": "markdown",
      "source": [
        "> **Checando a distribuição dos dados**"
      ],
      "metadata": {
        "id": "bkvwoUWIPD9g"
      }
    },
    {
      "cell_type": "code",
      "source": [
        "plt.figure(figsize=(10,5));\n",
        "sns.histplot(dados, edgecolor='k');"
      ],
      "metadata": {
        "colab": {
          "base_uri": "https://localhost:8080/",
          "height": 322
        },
        "id": "8Pl1DmbaPIpD",
        "outputId": "95ce6984-c9db-41d1-cd03-dffe8010568c"
      },
      "execution_count": 10,
      "outputs": [
        {
          "output_type": "display_data",
          "data": {
            "image/png": "[encoded data removed]",
            "text/plain": [
              "<Figure size 720x360 with 1 Axes>"
            ]
          },
          "metadata": {
            "needs_background": "light"
          }
        }
      ]
    },
    {
      "cell_type": "markdown",
      "source": [
        "> **Verificando *outliers***"
      ],
      "metadata": {
        "id": "Jke3DG6zPfRV"
      }
    },
    {
      "cell_type": "code",
      "source": [
        "plt.title('LDL');\n",
        "sns.boxplot('ldl', data = dados);"
      ],
      "metadata": {
        "colab": {
          "base_uri": "https://localhost:8080/",
          "height": 301
        },
        "id": "bmiPrXChPkJs",
        "outputId": "ba492448-9508-47cb-9ea5-285efcf72b65"
      },
      "execution_count": 11,
      "outputs": [
        {
          "output_type": "display_data",
          "data": {
            "image/png": "[encoded data removed]",
            "text/plain": [
              "<Figure size 432x288 with 1 Axes>"
            ]
          },
          "metadata": {
            "needs_background": "light"
          }
        }
      ]
    },
    {
      "cell_type": "code",
      "source": [
        "plt.title('HDL');\n",
        "sns.boxplot('hdl', data = dados);"
      ],
      "metadata": {
        "colab": {
          "base_uri": "https://localhost:8080/",
          "height": 301
        },
        "id": "GgbvVaMaRf9U",
        "outputId": "c59a82e5-b6af-4f73-cae9-e3333fe33bb3"
      },
      "execution_count": 12,
      "outputs": [
        {
          "output_type": "display_data",
          "data": {
            "image/png": "[encoded data removed]",
            "text/plain": [
              "<Figure size 432x288 with 1 Axes>"
            ]
          },
          "metadata": {
            "needs_background": "light"
          }
        }
      ]
    },
    {
      "cell_type": "code",
      "source": [
        "plt.title('Razão LDL/HDL');\n",
        "sns.boxplot('razao_ldl_hdl', data = dados);"
      ],
      "metadata": {
        "colab": {
          "base_uri": "https://localhost:8080/",
          "height": 301
        },
        "id": "hxdXwJulV4dv",
        "outputId": "12795a3f-dbcc-4d63-8c9b-f3fabe81df87"
      },
      "execution_count": 13,
      "outputs": [
        {
          "output_type": "display_data",
          "data": {
            "image/png": "[encoded data removed]",
            "text/plain": [
              "<Figure size 432x288 with 1 Axes>"
            ]
          },
          "metadata": {
            "needs_background": "light"
          }
        }
      ]
    },
    {
      "cell_type": "code",
      "source": [
        "plt.title('Idade');\n",
        "sns.boxplot('idade', data = dados);"
      ],
      "metadata": {
        "colab": {
          "base_uri": "https://localhost:8080/",
          "height": 301
        },
        "id": "ooCNDJ5DRhug",
        "outputId": "f8ae4980-651b-4dde-c340-aac0fb4852d8"
      },
      "execution_count": 14,
      "outputs": [
        {
          "output_type": "display_data",
          "data": {
            "image/png": "[encoded data removed]",
            "text/plain": [
              "<Figure size 432x288 with 1 Axes>"
            ]
          },
          "metadata": {
            "needs_background": "light"
          }
        }
      ]
    },
    {
      "cell_type": "code",
      "source": [
        "plt.title('Altura');\n",
        "sns.boxplot('altura', data = dados);"
      ],
      "metadata": {
        "colab": {
          "base_uri": "https://localhost:8080/",
          "height": 301
        },
        "id": "adwy7mqeRm9E",
        "outputId": "b5d338dd-faeb-4c1a-f79c-10296898f108"
      },
      "execution_count": 15,
      "outputs": [
        {
          "output_type": "display_data",
          "data": {
            "image/png": "[encoded data removed]",
            "text/plain": [
              "<Figure size 432x288 with 1 Axes>"
            ]
          },
          "metadata": {
            "needs_background": "light"
          }
        }
      ]
    },
    {
      "cell_type": "code",
      "source": [
        "plt.title('Massa corporal');\n",
        "sns.boxplot('massa', data = dados);"
      ],
      "metadata": {
        "colab": {
          "base_uri": "https://localhost:8080/",
          "height": 301
        },
        "id": "FXDaN5_-Rqdm",
        "outputId": "e3116380-1b06-4c25-b373-7f047bbe010c"
      },
      "execution_count": 16,
      "outputs": [
        {
          "output_type": "display_data",
          "data": {
            "image/png": "[encoded data removed]",
            "text/plain": [
              "<Figure size 432x288 with 1 Axes>"
            ]
          },
          "metadata": {
            "needs_background": "light"
          }
        }
      ]
    },
    {
      "cell_type": "code",
      "source": [
        "plt.title('Pressão Sanguínea (sístole)');\n",
        "sns.boxplot('ps_sistole', data = dados);"
      ],
      "metadata": {
        "colab": {
          "base_uri": "https://localhost:8080/",
          "height": 301
        },
        "id": "_VmQrOUARzmH",
        "outputId": "a8677f66-69a2-4bfe-837b-f6b3c583e16d"
      },
      "execution_count": 17,
      "outputs": [
        {
          "output_type": "display_data",
          "data": {
            "image/png": "[encoded data removed]",
            "text/plain": [
              "<Figure size 432x288 with 1 Axes>"
            ]
          },
          "metadata": {
            "needs_background": "light"
          }
        }
      ]
    },
    {
      "cell_type": "code",
      "source": [
        "plt.title('Pressão Sanguínea (diástole)');\n",
        "sns.boxplot('ps_diastole', data = dados);"
      ],
      "metadata": {
        "colab": {
          "base_uri": "https://localhost:8080/",
          "height": 301
        },
        "id": "9dFmAC-YR6DE",
        "outputId": "771cde83-452b-46c3-c5ff-c32ad60fb5b2"
      },
      "execution_count": 18,
      "outputs": [
        {
          "output_type": "display_data",
          "data": {
            "image/png": "[encoded data removed]",
            "text/plain": [
              "<Figure size 432x288 with 1 Axes>"
            ]
          },
          "metadata": {
            "needs_background": "light"
          }
        }
      ]
    },
    {
      "cell_type": "code",
      "source": [
        "plt.title('IMC');\n",
        "sns.boxplot('imc', data = dados);"
      ],
      "metadata": {
        "colab": {
          "base_uri": "https://localhost:8080/",
          "height": 301
        },
        "id": "VrWdMQLeR9xs",
        "outputId": "86a9745a-49d0-42a3-8592-ddfb21ec3c36"
      },
      "execution_count": 19,
      "outputs": [
        {
          "output_type": "display_data",
          "data": {
            "image/png": "[encoded data removed]",
            "text/plain": [
              "<Figure size 432x288 with 1 Axes>"
            ]
          },
          "metadata": {
            "needs_background": "light"
          }
        }
      ]
    },
    {
      "cell_type": "code",
      "source": [
        "plt.title('Medida cintura');\n",
        "sns.boxplot('medida_cintura', data = dados);"
      ],
      "metadata": {
        "colab": {
          "base_uri": "https://localhost:8080/",
          "height": 301
        },
        "id": "a4jCno8TUlpP",
        "outputId": "1250f3e4-f98e-452e-8643-c7d6c5998c7b"
      },
      "execution_count": 20,
      "outputs": [
        {
          "output_type": "display_data",
          "data": {
            "image/png": "[encoded data removed]",
            "text/plain": [
              "<Figure size 432x288 with 1 Axes>"
            ]
          },
          "metadata": {
            "needs_background": "light"
          }
        }
      ]
    },
    {
      "cell_type": "code",
      "source": [
        "plt.title('Medida quadril');\n",
        "sns.boxplot('medida_quadril', data = dados);"
      ],
      "metadata": {
        "colab": {
          "base_uri": "https://localhost:8080/",
          "height": 301
        },
        "id": "iF9ADy4pUsfv",
        "outputId": "7c86be03-74da-4443-c12f-a84e810526c2"
      },
      "execution_count": 21,
      "outputs": [
        {
          "output_type": "display_data",
          "data": {
            "image/png": "[encoded data removed]",
            "text/plain": [
              "<Figure size 432x288 with 1 Axes>"
            ]
          },
          "metadata": {
            "needs_background": "light"
          }
        }
      ]
    },
    {
      "cell_type": "code",
      "source": [
        "plt.title('Razão medida cintura/ medida quadril');\n",
        "sns.boxplot('razao_cint_quad', data = dados);"
      ],
      "metadata": {
        "colab": {
          "base_uri": "https://localhost:8080/",
          "height": 301
        },
        "id": "yzgcimXgWVsA",
        "outputId": "fd0b6ee6-bf4f-410f-d594-e3e5e9e4dd5d"
      },
      "execution_count": 22,
      "outputs": [
        {
          "output_type": "display_data",
          "data": {
            "image/png": "[encoded data removed]",
            "text/plain": [
              "<Figure size 432x288 with 1 Axes>"
            ]
          },
          "metadata": {
            "needs_background": "light"
          }
        }
      ]
    },
    {
      "cell_type": "markdown",
      "source": [
        "Conforme vemos nos gráficos de **boxplot**, existem *outliers* nas colunas:\n",
        "\n",
        "*   `ldl`, `hdl` e `razao_ldl_hdl`\n",
        "*    `ps_sistole`, `ps_diastole`\n",
        "*   `massa`, `altura` e `imc`\n",
        "*   `medida_cintura`, `medida_quadril` e `razao_cint_quad`\n",
        "\n",
        "Ou seja, apenas a coluna **idade** não possui *outliers*.\n"
      ],
      "metadata": {
        "id": "MzgCI4t_WciR"
      }
    },
    {
      "cell_type": "markdown",
      "source": [
        "> **Obtendo as estatísticas descritivas**"
      ],
      "metadata": {
        "id": "hDdJ5-vsPl4M"
      }
    },
    {
      "cell_type": "code",
      "source": [
        "round(dados.describe(), 2)"
      ],
      "metadata": {
        "colab": {
          "base_uri": "https://localhost:8080/",
          "height": 364
        },
        "id": "WDEyZmwBPpQH",
        "outputId": "4f800d21-1b5b-4e52-cfc4-61a17c2a7aa5"
      },
      "execution_count": 23,
      "outputs": [
        {
          "output_type": "execute_result",
          "data": {
            "text/html": [
              "\n",
              "  <div id=\"df-fad44375-4e17-483f-ad61-6426d4069dcb\">\n",
              "    <div class=\"colab-df-container\">\n",
              "      <div>\n",
              "<style scoped>\n",
              "    .dataframe tbody tr th:only-of-type {\n",
              "        vertical-align: middle;\n",
              "    }\n",
              "\n",
              "    .dataframe tbody tr th {\n",
              "        vertical-align: top;\n",
              "    }\n",
              "\n",
              "    .dataframe thead th {\n",
              "        text-align: right;\n",
              "    }\n",
              "</style>\n",
              "<table border=\"1\" class=\"dataframe\">\n",
              "  <thead>\n",
              "    <tr style=\"text-align: right;\">\n",
              "      <th></th>\n",
              "      <th>n_paciente</th>\n",
              "      <th>ldl</th>\n",
              "      <th>glicose</th>\n",
              "      <th>hdl</th>\n",
              "      <th>razao_ldl_hdl</th>\n",
              "      <th>idade</th>\n",
              "      <th>altura</th>\n",
              "      <th>massa</th>\n",
              "      <th>imc</th>\n",
              "      <th>ps_sistole</th>\n",
              "      <th>ps_diastole</th>\n",
              "      <th>medida_cintura</th>\n",
              "      <th>medida_quadril</th>\n",
              "      <th>razao_cint_quad</th>\n",
              "    </tr>\n",
              "  </thead>\n",
              "  <tbody>\n",
              "    <tr>\n",
              "      <th>count</th>\n",
              "      <td>390.00</td>\n",
              "      <td>390.00</td>\n",
              "      <td>390.00</td>\n",
              "      <td>390.00</td>\n",
              "      <td>390.00</td>\n",
              "      <td>390.00</td>\n",
              "      <td>390.00</td>\n",
              "      <td>390.00</td>\n",
              "      <td>390.00</td>\n",
              "      <td>390.00</td>\n",
              "      <td>390.00</td>\n",
              "      <td>390.00</td>\n",
              "      <td>390.00</td>\n",
              "      <td>390.00</td>\n",
              "    </tr>\n",
              "    <tr>\n",
              "      <th>mean</th>\n",
              "      <td>195.50</td>\n",
              "      <td>207.23</td>\n",
              "      <td>107.34</td>\n",
              "      <td>50.27</td>\n",
              "      <td>4.52</td>\n",
              "      <td>46.77</td>\n",
              "      <td>65.95</td>\n",
              "      <td>177.41</td>\n",
              "      <td>28.78</td>\n",
              "      <td>137.13</td>\n",
              "      <td>83.29</td>\n",
              "      <td>37.87</td>\n",
              "      <td>42.99</td>\n",
              "      <td>0.88</td>\n",
              "    </tr>\n",
              "    <tr>\n",
              "      <th>std</th>\n",
              "      <td>112.73</td>\n",
              "      <td>44.67</td>\n",
              "      <td>53.80</td>\n",
              "      <td>17.28</td>\n",
              "      <td>1.74</td>\n",
              "      <td>16.44</td>\n",
              "      <td>3.92</td>\n",
              "      <td>40.41</td>\n",
              "      <td>6.60</td>\n",
              "      <td>22.86</td>\n",
              "      <td>13.50</td>\n",
              "      <td>5.76</td>\n",
              "      <td>5.66</td>\n",
              "      <td>0.07</td>\n",
              "    </tr>\n",
              "    <tr>\n",
              "      <th>min</th>\n",
              "      <td>1.00</td>\n",
              "      <td>78.00</td>\n",
              "      <td>48.00</td>\n",
              "      <td>12.00</td>\n",
              "      <td>1.50</td>\n",
              "      <td>19.00</td>\n",
              "      <td>52.00</td>\n",
              "      <td>99.00</td>\n",
              "      <td>15.20</td>\n",
              "      <td>90.00</td>\n",
              "      <td>48.00</td>\n",
              "      <td>26.00</td>\n",
              "      <td>30.00</td>\n",
              "      <td>0.68</td>\n",
              "    </tr>\n",
              "    <tr>\n",
              "      <th>25%</th>\n",
              "      <td>98.25</td>\n",
              "      <td>179.00</td>\n",
              "      <td>81.00</td>\n",
              "      <td>38.00</td>\n",
              "      <td>3.20</td>\n",
              "      <td>34.00</td>\n",
              "      <td>63.00</td>\n",
              "      <td>150.25</td>\n",
              "      <td>24.10</td>\n",
              "      <td>122.00</td>\n",
              "      <td>75.00</td>\n",
              "      <td>33.00</td>\n",
              "      <td>39.00</td>\n",
              "      <td>0.83</td>\n",
              "    </tr>\n",
              "    <tr>\n",
              "      <th>50%</th>\n",
              "      <td>195.50</td>\n",
              "      <td>203.00</td>\n",
              "      <td>90.00</td>\n",
              "      <td>46.00</td>\n",
              "      <td>4.20</td>\n",
              "      <td>44.50</td>\n",
              "      <td>66.00</td>\n",
              "      <td>173.00</td>\n",
              "      <td>27.80</td>\n",
              "      <td>136.00</td>\n",
              "      <td>82.00</td>\n",
              "      <td>37.00</td>\n",
              "      <td>42.00</td>\n",
              "      <td>0.88</td>\n",
              "    </tr>\n",
              "    <tr>\n",
              "      <th>75%</th>\n",
              "      <td>292.75</td>\n",
              "      <td>229.00</td>\n",
              "      <td>107.75</td>\n",
              "      <td>59.00</td>\n",
              "      <td>5.40</td>\n",
              "      <td>60.00</td>\n",
              "      <td>69.00</td>\n",
              "      <td>200.00</td>\n",
              "      <td>32.28</td>\n",
              "      <td>148.00</td>\n",
              "      <td>90.00</td>\n",
              "      <td>41.00</td>\n",
              "      <td>46.00</td>\n",
              "      <td>0.93</td>\n",
              "    </tr>\n",
              "    <tr>\n",
              "      <th>max</th>\n",
              "      <td>390.00</td>\n",
              "      <td>443.00</td>\n",
              "      <td>385.00</td>\n",
              "      <td>120.00</td>\n",
              "      <td>19.30</td>\n",
              "      <td>92.00</td>\n",
              "      <td>76.00</td>\n",
              "      <td>325.00</td>\n",
              "      <td>55.80</td>\n",
              "      <td>250.00</td>\n",
              "      <td>124.00</td>\n",
              "      <td>56.00</td>\n",
              "      <td>64.00</td>\n",
              "      <td>1.14</td>\n",
              "    </tr>\n",
              "  </tbody>\n",
              "</table>\n",
              "</div>\n",
              "      <button class=\"colab-df-convert\" onclick=\"convertToInteractive('df-fad44375-4e17-483f-ad61-6426d4069dcb')\"\n",
              "              title=\"Convert this dataframe to an interactive table.\"\n",
              "              style=\"display:none;\">\n",
              "        \n",
              "  <svg xmlns=\"http://www.w3.org/2000/svg\" height=\"24px\"viewBox=\"0 0 24 24\"\n",
              "       width=\"24px\">\n",
              "    <path d=\"M0 0h24v24H0V0z\" fill=\"none\"/>\n",
              "    <path d=\"M18.56 5.44l.94 2.06.94-2.06 2.06-.94-2.06-.94-.94-2.06-.94 2.06-2.06.94zm-11 1L8.5 8.5l.94-2.06 2.06-.94-2.06-.94L8.5 2.5l-.94 2.06-2.06.94zm10 10l.94 2.06.94-2.06 2.06-.94-2.06-.94-.94-2.06-.94 2.06-2.06.94z\"/><path d=\"M17.41 7.96l-1.37-1.37c-.4-.4-.92-.59-1.43-.59-.52 0-1.04.2-1.43.59L10.3 9.45l-7.72 7.72c-.78.78-.78 2.05 0 2.83L4 21.41c.39.39.9.59 1.41.59.51 0 1.02-.2 1.41-.59l7.78-7.78 2.81-2.81c.8-.78.8-2.07 0-2.86zM5.41 20L4 18.59l7.72-7.72 1.47 1.35L5.41 20z\"/>\n",
              "  </svg>\n",
              "      </button>\n",
              "      \n",
              "  <style>\n",
              "    .colab-df-container {\n",
              "      display:flex;\n",
              "      flex-wrap:wrap;\n",
              "      gap: 12px;\n",
              "    }\n",
              "\n",
              "    .colab-df-convert {\n",
              "      background-color: #E8F0FE;\n",
              "      border: none;\n",
              "      border-radius: 50%;\n",
              "      cursor: pointer;\n",
              "      display: none;\n",
              "      fill: #1967D2;\n",
              "      height: 32px;\n",
              "      padding: 0 0 0 0;\n",
              "      width: 32px;\n",
              "    }\n",
              "\n",
              "    .colab-df-convert:hover {\n",
              "      background-color: #E2EBFA;\n",
              "      box-shadow: 0px 1px 2px rgba(60, 64, 67, 0.3), 0px 1px 3px 1px rgba(60, 64, 67, 0.15);\n",
              "      fill: #174EA6;\n",
              "    }\n",
              "\n",
              "    [theme=dark] .colab-df-convert {\n",
              "      background-color: #3B4455;\n",
              "      fill: #D2E3FC;\n",
              "    }\n",
              "\n",
              "    [theme=dark] .colab-df-convert:hover {\n",
              "      background-color: #434B5C;\n",
              "      box-shadow: 0px 1px 3px 1px rgba(0, 0, 0, 0.15);\n",
              "      filter: drop-shadow(0px 1px 2px rgba(0, 0, 0, 0.3));\n",
              "      fill: #FFFFFF;\n",
              "    }\n",
              "  </style>\n",
              "\n",
              "      <script>\n",
              "        const buttonEl =\n",
              "          document.querySelector('#df-fad44375-4e17-483f-ad61-6426d4069dcb button.colab-df-convert');\n",
              "        buttonEl.style.display =\n",
              "          google.colab.kernel.accessAllowed ? 'block' : 'none';\n",
              "\n",
              "        async function convertToInteractive(key) {\n",
              "          const element = document.querySelector('#df-fad44375-4e17-483f-ad61-6426d4069dcb');\n",
              "          const dataTable =\n",
              "            await google.colab.kernel.invokeFunction('convertToInteractive',\n",
              "                                                     [key], {});\n",
              "          if (!dataTable) return;\n",
              "\n",
              "          const docLinkHtml = 'Like what you see? Visit the ' +\n",
              "            '<a target=\"_blank\" href=https://colab.research.google.com/notebooks/data_table.ipynb>data table notebook</a>'\n",
              "            + ' to learn more about interactive tables.';\n",
              "          element.innerHTML = '';\n",
              "          dataTable['output_type'] = 'display_data';\n",
              "          await google.colab.output.renderOutput(dataTable, element);\n",
              "          const docLink = document.createElement('div');\n",
              "          docLink.innerHTML = docLinkHtml;\n",
              "          element.appendChild(docLink);\n",
              "        }\n",
              "      </script>\n",
              "    </div>\n",
              "  </div>\n",
              "  "
            ],
            "text/plain": [
              "       n_paciente     ldl  ...  medida_quadril  razao_cint_quad\n",
              "count      390.00  390.00  ...          390.00           390.00\n",
              "mean       195.50  207.23  ...           42.99             0.88\n",
              "std        112.73   44.67  ...            5.66             0.07\n",
              "min          1.00   78.00  ...           30.00             0.68\n",
              "25%         98.25  179.00  ...           39.00             0.83\n",
              "50%        195.50  203.00  ...           42.00             0.88\n",
              "75%        292.75  229.00  ...           46.00             0.93\n",
              "max        390.00  443.00  ...           64.00             1.14\n",
              "\n",
              "[8 rows x 14 columns]"
            ]
          },
          "metadata": {},
          "execution_count": 23
        }
      ]
    },
    {
      "cell_type": "markdown",
      "source": [
        "> **Checando proporções de diabéticos e não diabétricos**"
      ],
      "metadata": {
        "id": "11fy4AwAc0w6"
      }
    },
    {
      "cell_type": "code",
      "source": [
        "# Tratamento de variáveis categóricas (não-numéricas:\n",
        "dados.replace('No diabetes', 0, inplace=True)\n",
        "dados.replace('Diabetes', 1, inplace=True)\n",
        "\n",
        "dados.replace('female', 0, inplace=True)\n",
        "dados.replace('male', 1, inplace=True)\n",
        "\n",
        "# Visualização:\n",
        "sns.catplot(kind='count', x='diabetes', edgecolor='k', data = dados);\n",
        "plt.ylim([0,400]);"
      ],
      "metadata": {
        "colab": {
          "base_uri": "https://localhost:8080/",
          "height": 369
        },
        "id": "ilkKLQi0dBMz",
        "outputId": "8954442e-908d-4640-dd9f-aa67dd75948f"
      },
      "execution_count": 24,
      "outputs": [
        {
          "output_type": "display_data",
          "data": {
            "image/png": "[encoded data removed]",
            "text/plain": [
              "<Figure size 360x360 with 1 Axes>"
            ]
          },
          "metadata": {
            "needs_background": "light"
          }
        }
      ]
    },
    {
      "cell_type": "markdown",
      "source": [
        "Conforme podemos ver no **gráfico de barras** acima, os dados estão **desbalanceados**, o que pode comprometer a etapa de **modelagem**, pois temos muito mais pacientes sem diabates do que pacientes com diabetes."
      ],
      "metadata": {
        "id": "Dt3sK3dXeUNl"
      }
    },
    {
      "cell_type": "code",
      "source": [
        "print(dados.query('diabetes == 0')['diabetes'].value_counts() / len(dados) * 100)\n",
        "print(dados.query('diabetes == 1')['diabetes'].value_counts() / len(dados) *100)"
      ],
      "metadata": {
        "colab": {
          "base_uri": "https://localhost:8080/"
        },
        "id": "24j56vcpHcIM",
        "outputId": "3227d0ab-b987-4a04-8b15-7618508ed481"
      },
      "execution_count": 25,
      "outputs": [
        {
          "output_type": "stream",
          "name": "stdout",
          "text": [
            "0    84.615385\n",
            "Name: diabetes, dtype: float64\n",
            "1    15.384615\n",
            "Name: diabetes, dtype: float64\n"
          ]
        }
      ]
    },
    {
      "cell_type": "markdown",
      "source": [
        "# **3. Preparação dos dados**\n",
        "\n",
        "**Ações:**\n",
        "\n",
        "*   Tratamento de valores nulos/faltantes;\n",
        "*   Tratamento de com *outliers* (valores discrepantes);\n",
        "*   Tratamento de variáveis categóricas (não-numéricas);\n",
        "*   Separação dados de treino e de teste.\n",
        "\n",
        "\n",
        "\n"
      ],
      "metadata": {
        "id": "JdXDJfNXKX_4"
      }
    },
    {
      "cell_type": "markdown",
      "source": [
        "> **Tratamento de valores nulos/faltantes**"
      ],
      "metadata": {
        "id": "_WZ0EafUX3P6"
      }
    },
    {
      "cell_type": "code",
      "source": [
        "# nova checagem por valores nulos:\n",
        "dados.info()"
      ],
      "metadata": {
        "colab": {
          "base_uri": "https://localhost:8080/"
        },
        "id": "ALCT_luKXzBZ",
        "outputId": "ef047d8f-a16f-4ad5-d645-851ed926f827"
      },
      "execution_count": 26,
      "outputs": [
        {
          "output_type": "stream",
          "name": "stdout",
          "text": [
            "<class 'pandas.core.frame.DataFrame'>\n",
            "RangeIndex: 390 entries, 0 to 389\n",
            "Data columns (total 16 columns):\n",
            " #   Column           Non-Null Count  Dtype  \n",
            "---  ------           --------------  -----  \n",
            " 0   n_paciente       390 non-null    int64  \n",
            " 1   ldl              390 non-null    int64  \n",
            " 2   glicose          390 non-null    int64  \n",
            " 3   hdl              390 non-null    int64  \n",
            " 4   razao_ldl_hdl    390 non-null    float64\n",
            " 5   idade            390 non-null    int64  \n",
            " 6   genero           390 non-null    int64  \n",
            " 7   altura           390 non-null    int64  \n",
            " 8   massa            390 non-null    int64  \n",
            " 9   imc              390 non-null    float64\n",
            " 10  ps_sistole       390 non-null    int64  \n",
            " 11  ps_diastole      390 non-null    int64  \n",
            " 12  medida_cintura   390 non-null    int64  \n",
            " 13  medida_quadril   390 non-null    int64  \n",
            " 14  razao_cint_quad  390 non-null    float64\n",
            " 15  diabetes         390 non-null    int64  \n",
            "dtypes: float64(3), int64(13)\n",
            "memory usage: 48.9 KB\n"
          ]
        }
      ]
    },
    {
      "cell_type": "markdown",
      "source": [
        "Como não temos **valores nulos** no conjunto de dados, não precisamos de tratamento neste caso."
      ],
      "metadata": {
        "id": "g91IjpuxYUEe"
      }
    },
    {
      "cell_type": "markdown",
      "source": [
        "> **Tratamento de *outliers***"
      ],
      "metadata": {
        "id": "-CpMbyKcYraD"
      }
    },
    {
      "cell_type": "code",
      "source": [
        "# importando as configurações/bibliotecas necessárias:\n",
        "from sklearn.ensemble import IsolationForest"
      ],
      "metadata": {
        "id": "sVgzukj5ZVYM"
      },
      "execution_count": 27,
      "outputs": []
    },
    {
      "cell_type": "markdown",
      "source": [
        "Vamos utilizar o moelo ***Isolation Forest*** para detectar os *outliers** e removê-los do conjunto de dados, cajo não representem um número significativo dos dados originais. "
      ],
      "metadata": {
        "id": "WyMgC0dpmf2q"
      }
    },
    {
      "cell_type": "code",
      "source": [
        "estimadores = int(np.sqrt(dados.shape[0]))\n",
        "detecta_outliers = IsolationForest(contamination=0.1, n_estimators = estimadores)\n",
        "\n",
        "outliers = detecta_outliers.fit(dados)\n",
        "dados['outliers'] = outliers.predict(dados)\n",
        "dados.head(2)"
      ],
      "metadata": {
        "colab": {
          "base_uri": "https://localhost:8080/",
          "height": 176
        },
        "id": "weNssh6UYTmb",
        "outputId": "0df89d13-a088-4325-d15c-693826bb503b"
      },
      "execution_count": 28,
      "outputs": [
        {
          "output_type": "execute_result",
          "data": {
            "text/html": [
              "\n",
              "  <div id=\"df-f978b30b-171e-4b17-b086-4d8dfe26560a\">\n",
              "    <div class=\"colab-df-container\">\n",
              "      <div>\n",
              "<style scoped>\n",
              "    .dataframe tbody tr th:only-of-type {\n",
              "        vertical-align: middle;\n",
              "    }\n",
              "\n",
              "    .dataframe tbody tr th {\n",
              "        vertical-align: top;\n",
              "    }\n",
              "\n",
              "    .dataframe thead th {\n",
              "        text-align: right;\n",
              "    }\n",
              "</style>\n",
              "<table border=\"1\" class=\"dataframe\">\n",
              "  <thead>\n",
              "    <tr style=\"text-align: right;\">\n",
              "      <th></th>\n",
              "      <th>n_paciente</th>\n",
              "      <th>ldl</th>\n",
              "      <th>glicose</th>\n",
              "      <th>hdl</th>\n",
              "      <th>razao_ldl_hdl</th>\n",
              "      <th>idade</th>\n",
              "      <th>genero</th>\n",
              "      <th>altura</th>\n",
              "      <th>massa</th>\n",
              "      <th>imc</th>\n",
              "      <th>ps_sistole</th>\n",
              "      <th>ps_diastole</th>\n",
              "      <th>medida_cintura</th>\n",
              "      <th>medida_quadril</th>\n",
              "      <th>razao_cint_quad</th>\n",
              "      <th>diabetes</th>\n",
              "      <th>outliers</th>\n",
              "    </tr>\n",
              "  </thead>\n",
              "  <tbody>\n",
              "    <tr>\n",
              "      <th>0</th>\n",
              "      <td>1</td>\n",
              "      <td>193</td>\n",
              "      <td>77</td>\n",
              "      <td>49</td>\n",
              "      <td>3.9</td>\n",
              "      <td>19</td>\n",
              "      <td>0</td>\n",
              "      <td>61</td>\n",
              "      <td>119</td>\n",
              "      <td>22.5</td>\n",
              "      <td>118</td>\n",
              "      <td>70</td>\n",
              "      <td>32</td>\n",
              "      <td>38</td>\n",
              "      <td>0.84</td>\n",
              "      <td>0</td>\n",
              "      <td>1</td>\n",
              "    </tr>\n",
              "    <tr>\n",
              "      <th>1</th>\n",
              "      <td>2</td>\n",
              "      <td>146</td>\n",
              "      <td>79</td>\n",
              "      <td>41</td>\n",
              "      <td>3.6</td>\n",
              "      <td>19</td>\n",
              "      <td>0</td>\n",
              "      <td>60</td>\n",
              "      <td>135</td>\n",
              "      <td>26.4</td>\n",
              "      <td>108</td>\n",
              "      <td>58</td>\n",
              "      <td>33</td>\n",
              "      <td>40</td>\n",
              "      <td>0.83</td>\n",
              "      <td>0</td>\n",
              "      <td>-1</td>\n",
              "    </tr>\n",
              "  </tbody>\n",
              "</table>\n",
              "</div>\n",
              "      <button class=\"colab-df-convert\" onclick=\"convertToInteractive('df-f978b30b-171e-4b17-b086-4d8dfe26560a')\"\n",
              "              title=\"Convert this dataframe to an interactive table.\"\n",
              "              style=\"display:none;\">\n",
              "        \n",
              "  <svg xmlns=\"http://www.w3.org/2000/svg\" height=\"24px\"viewBox=\"0 0 24 24\"\n",
              "       width=\"24px\">\n",
              "    <path d=\"M0 0h24v24H0V0z\" fill=\"none\"/>\n",
              "    <path d=\"M18.56 5.44l.94 2.06.94-2.06 2.06-.94-2.06-.94-.94-2.06-.94 2.06-2.06.94zm-11 1L8.5 8.5l.94-2.06 2.06-.94-2.06-.94L8.5 2.5l-.94 2.06-2.06.94zm10 10l.94 2.06.94-2.06 2.06-.94-2.06-.94-.94-2.06-.94 2.06-2.06.94z\"/><path d=\"M17.41 7.96l-1.37-1.37c-.4-.4-.92-.59-1.43-.59-.52 0-1.04.2-1.43.59L10.3 9.45l-7.72 7.72c-.78.78-.78 2.05 0 2.83L4 21.41c.39.39.9.59 1.41.59.51 0 1.02-.2 1.41-.59l7.78-7.78 2.81-2.81c.8-.78.8-2.07 0-2.86zM5.41 20L4 18.59l7.72-7.72 1.47 1.35L5.41 20z\"/>\n",
              "  </svg>\n",
              "      </button>\n",
              "      \n",
              "  <style>\n",
              "    .colab-df-container {\n",
              "      display:flex;\n",
              "      flex-wrap:wrap;\n",
              "      gap: 12px;\n",
              "    }\n",
              "\n",
              "    .colab-df-convert {\n",
              "      background-color: #E8F0FE;\n",
              "      border: none;\n",
              "      border-radius: 50%;\n",
              "      cursor: pointer;\n",
              "      display: none;\n",
              "      fill: #1967D2;\n",
              "      height: 32px;\n",
              "      padding: 0 0 0 0;\n",
              "      width: 32px;\n",
              "    }\n",
              "\n",
              "    .colab-df-convert:hover {\n",
              "      background-color: #E2EBFA;\n",
              "      box-shadow: 0px 1px 2px rgba(60, 64, 67, 0.3), 0px 1px 3px 1px rgba(60, 64, 67, 0.15);\n",
              "      fill: #174EA6;\n",
              "    }\n",
              "\n",
              "    [theme=dark] .colab-df-convert {\n",
              "      background-color: #3B4455;\n",
              "      fill: #D2E3FC;\n",
              "    }\n",
              "\n",
              "    [theme=dark] .colab-df-convert:hover {\n",
              "      background-color: #434B5C;\n",
              "      box-shadow: 0px 1px 3px 1px rgba(0, 0, 0, 0.15);\n",
              "      filter: drop-shadow(0px 1px 2px rgba(0, 0, 0, 0.3));\n",
              "      fill: #FFFFFF;\n",
              "    }\n",
              "  </style>\n",
              "\n",
              "      <script>\n",
              "        const buttonEl =\n",
              "          document.querySelector('#df-f978b30b-171e-4b17-b086-4d8dfe26560a button.colab-df-convert');\n",
              "        buttonEl.style.display =\n",
              "          google.colab.kernel.accessAllowed ? 'block' : 'none';\n",
              "\n",
              "        async function convertToInteractive(key) {\n",
              "          const element = document.querySelector('#df-f978b30b-171e-4b17-b086-4d8dfe26560a');\n",
              "          const dataTable =\n",
              "            await google.colab.kernel.invokeFunction('convertToInteractive',\n",
              "                                                     [key], {});\n",
              "          if (!dataTable) return;\n",
              "\n",
              "          const docLinkHtml = 'Like what you see? Visit the ' +\n",
              "            '<a target=\"_blank\" href=https://colab.research.google.com/notebooks/data_table.ipynb>data table notebook</a>'\n",
              "            + ' to learn more about interactive tables.';\n",
              "          element.innerHTML = '';\n",
              "          dataTable['output_type'] = 'display_data';\n",
              "          await google.colab.output.renderOutput(dataTable, element);\n",
              "          const docLink = document.createElement('div');\n",
              "          docLink.innerHTML = docLinkHtml;\n",
              "          element.appendChild(docLink);\n",
              "        }\n",
              "      </script>\n",
              "    </div>\n",
              "  </div>\n",
              "  "
            ],
            "text/plain": [
              "   n_paciente  ldl  glicose  ...  razao_cint_quad  diabetes  outliers\n",
              "0           1  193       77  ...             0.84         0         1\n",
              "1           2  146       79  ...             0.83         0        -1\n",
              "\n",
              "[2 rows x 17 columns]"
            ]
          },
          "metadata": {},
          "execution_count": 28
        }
      ]
    },
    {
      "cell_type": "markdown",
      "source": [
        "Neste caso temos na coluna **outliers**:\n",
        "\n",
        "*   **É um outlier**: -1\n",
        "*   **Não é um outlier**: 1\n"
      ],
      "metadata": {
        "id": "Z69Ev5rglQ-s"
      }
    },
    {
      "cell_type": "code",
      "source": [
        "dados_tratados = dados.query('outliers == 1')\n",
        "dados_tratados.shape"
      ],
      "metadata": {
        "colab": {
          "base_uri": "https://localhost:8080/"
        },
        "id": "hwdoZZydliby",
        "outputId": "e632d5ff-04e3-478d-8ef3-3fc837f0071a"
      },
      "execution_count": 29,
      "outputs": [
        {
          "output_type": "execute_result",
          "data": {
            "text/plain": [
              "(351, 17)"
            ]
          },
          "metadata": {},
          "execution_count": 29
        }
      ]
    },
    {
      "cell_type": "markdown",
      "source": [
        "> **Verificando o impacto dos outliers no tamanho dos dados**"
      ],
      "metadata": {
        "id": "IEjzWzNbm2ep"
      }
    },
    {
      "cell_type": "code",
      "source": [
        "reduao_de_linhas = int( (1 - dados_tratados.shape[0] / dados.shape[0]) * 100)\n",
        "print(f'O conjunto de dados teve um redução de {reduao_de_linhas}% nas linhas após a remoção dos ouliers.')"
      ],
      "metadata": {
        "colab": {
          "base_uri": "https://localhost:8080/"
        },
        "id": "XMygzZYLlpQC",
        "outputId": "02916599-71c9-4729-84e6-fb18a225d5e7"
      },
      "execution_count": 30,
      "outputs": [
        {
          "output_type": "stream",
          "name": "stdout",
          "text": [
            "O conjunto de dados teve um redução de 9% nas linhas após a remoção dos ouliers.\n"
          ]
        }
      ]
    },
    {
      "cell_type": "markdown",
      "source": [
        "> **Separação dados de treino e de teste**"
      ],
      "metadata": {
        "id": "vYrCfJQHY8FY"
      }
    },
    {
      "cell_type": "code",
      "source": [
        "# importando as configurações/bibliotecas necessárias:\n",
        "from sklearn.model_selection import train_test_split"
      ],
      "metadata": {
        "id": "PkhdU--pY-VJ"
      },
      "execution_count": 31,
      "outputs": []
    },
    {
      "cell_type": "markdown",
      "source": [
        "Primeiro, vamos checar as colunas e excluir a coluna **outliers**, pois já lidamos com eles. Podemos excluir a coluna **n_paciente**, pois ela não será utilizada."
      ],
      "metadata": {
        "id": "Q87FxHOanOMz"
      }
    },
    {
      "cell_type": "code",
      "source": [
        "dados_tratados.columns"
      ],
      "metadata": {
        "colab": {
          "base_uri": "https://localhost:8080/"
        },
        "id": "_MElzzzlnK4q",
        "outputId": "48151151-5e18-44aa-ba00-e0515b6deedb"
      },
      "execution_count": 32,
      "outputs": [
        {
          "output_type": "execute_result",
          "data": {
            "text/plain": [
              "Index(['n_paciente', 'ldl', 'glicose', 'hdl', 'razao_ldl_hdl', 'idade',\n",
              "       'genero', 'altura', 'massa', 'imc', 'ps_sistole', 'ps_diastole',\n",
              "       'medida_cintura', 'medida_quadril', 'razao_cint_quad', 'diabetes',\n",
              "       'outliers'],\n",
              "      dtype='object')"
            ]
          },
          "metadata": {},
          "execution_count": 32
        }
      ]
    },
    {
      "cell_type": "code",
      "source": [
        "dados_tratados.drop(columns = ['n_paciente','outliers'], inplace = True)"
      ],
      "metadata": {
        "id": "VdqPcRLwnWSR"
      },
      "execution_count": 33,
      "outputs": []
    },
    {
      "cell_type": "code",
      "source": [
        "dados_tratados.columns"
      ],
      "metadata": {
        "colab": {
          "base_uri": "https://localhost:8080/"
        },
        "id": "OEJNB5f1nvkR",
        "outputId": "5ed2e641-8429-4c76-a4b2-d31879fde5dd"
      },
      "execution_count": 34,
      "outputs": [
        {
          "output_type": "execute_result",
          "data": {
            "text/plain": [
              "Index(['ldl', 'glicose', 'hdl', 'razao_ldl_hdl', 'idade', 'genero', 'altura',\n",
              "       'massa', 'imc', 'ps_sistole', 'ps_diastole', 'medida_cintura',\n",
              "       'medida_quadril', 'razao_cint_quad', 'diabetes'],\n",
              "      dtype='object')"
            ]
          },
          "metadata": {},
          "execution_count": 34
        }
      ]
    },
    {
      "cell_type": "markdown",
      "source": [
        "Adicionalmente, vamos verificar correlações nas colunas, de modo a reduzir as variáveis"
      ],
      "metadata": {
        "id": "deYUEMxioA6d"
      }
    },
    {
      "cell_type": "code",
      "source": [
        "plt.figure(figsize=(12,5));\n",
        "sns.heatmap(dados_tratados.corr(method='spearman'), annot=True, fmt='.1f', cmap='Greys');"
      ],
      "metadata": {
        "colab": {
          "base_uri": "https://localhost:8080/",
          "height": 415
        },
        "id": "GyFHb0qhoAbi",
        "outputId": "e78d90c7-2045-467a-f5ef-449b4b7a5c5e"
      },
      "execution_count": 35,
      "outputs": [
        {
          "output_type": "display_data",
          "data": {
            "image/png": "[encoded data removed]",
            "text/plain": [
              "<Figure size 864x360 with 2 Axes>"
            ]
          },
          "metadata": {
            "needs_background": "light"
          }
        }
      ]
    },
    {
      "cell_type": "markdown",
      "source": [
        "Vamos remover as colunas onde o coefficiente de correlação é zero ou que podem não fazer sentido do ponto de vista prático."
      ],
      "metadata": {
        "id": "5rq0jXyXpjQJ"
      }
    },
    {
      "cell_type": "code",
      "source": [
        "dados_tratados.drop(\n",
        "    columns=['genero','altura','massa','medida_cintura', \n",
        "             'medida_quadril', 'razao_cint_quad'], \n",
        "    inplace=True)\n",
        "\n",
        "dados_tratados.columns"
      ],
      "metadata": {
        "colab": {
          "base_uri": "https://localhost:8080/"
        },
        "id": "RozvB6DYnDwj",
        "outputId": "246d893b-cc79-441c-98e5-9188aad5dd2e"
      },
      "execution_count": 36,
      "outputs": [
        {
          "output_type": "execute_result",
          "data": {
            "text/plain": [
              "Index(['ldl', 'glicose', 'hdl', 'razao_ldl_hdl', 'idade', 'imc', 'ps_sistole',\n",
              "       'ps_diastole', 'diabetes'],\n",
              "      dtype='object')"
            ]
          },
          "metadata": {},
          "execution_count": 36
        }
      ]
    },
    {
      "cell_type": "code",
      "source": [
        "# Criando as variáves\n",
        "x = dados_tratados.iloc[:, 0:8]\n",
        "y = dados_tratados.iloc[:, -1]"
      ],
      "metadata": {
        "id": "KClNZKi1p1rz"
      },
      "execution_count": 37,
      "outputs": []
    },
    {
      "cell_type": "markdown",
      "source": [
        "> **Normalizando os dados** \n",
        "\n",
        "Isso é realizado pois temos várias escalas diferentes entre as variáveis."
      ],
      "metadata": {
        "id": "tSMpNkBqjupI"
      }
    },
    {
      "cell_type": "code",
      "source": [
        "from sklearn.preprocessing import StandardScaler\n",
        "\n",
        "x = StandardScaler().fit_transform(x)"
      ],
      "metadata": {
        "id": "WzpP4cnXjqYO"
      },
      "execution_count": 38,
      "outputs": []
    },
    {
      "cell_type": "markdown",
      "source": [
        "> **Balanceando os dados com `Undersampling` e `Oversampling`**"
      ],
      "metadata": {
        "id": "LEE9OHM9IPI2"
      }
    },
    {
      "cell_type": "code",
      "source": [
        "# Configurações/Bibliotecas necessárias:\n",
        "from imblearn.over_sampling import RandomOverSampler\n",
        "from imblearn.under_sampling import RandomUnderSampler\n",
        "from collections import Counter"
      ],
      "metadata": {
        "id": "OLG9XXBlIQdb"
      },
      "execution_count": 39,
      "outputs": []
    },
    {
      "cell_type": "code",
      "source": [
        "over_sampling = RandomOverSampler(sampling_strategy=0.5)\n",
        "under_sampling = RandomUnderSampler(sampling_strategy=0.8)\n",
        "\n",
        "x_over, y_over = over_sampling.fit_resample(x, y)\n",
        "print(f'Oversampled data: {Counter(y_over)}')"
      ],
      "metadata": {
        "colab": {
          "base_uri": "https://localhost:8080/"
        },
        "id": "fWGjbYUMIQT2",
        "outputId": "a2a62e7a-80a8-4621-e5f4-3d45bfea1818"
      },
      "execution_count": 40,
      "outputs": [
        {
          "output_type": "stream",
          "name": "stdout",
          "text": [
            "Oversampled data: Counter({0: 311, 1: 155})\n"
          ]
        }
      ]
    },
    {
      "cell_type": "code",
      "source": [
        "x_under, y_under = under_sampling.fit_resample(x, y)\n",
        "print(f'Undersampled data: {Counter(y_under)}')"
      ],
      "metadata": {
        "colab": {
          "base_uri": "https://localhost:8080/"
        },
        "id": "qOf8WxP6IJk2",
        "outputId": "9329227d-5e83-49c9-f7ac-bcef856117bf"
      },
      "execution_count": 41,
      "outputs": [
        {
          "output_type": "stream",
          "name": "stdout",
          "text": [
            "Undersampled data: Counter({0: 50, 1: 40})\n"
          ]
        }
      ]
    },
    {
      "cell_type": "markdown",
      "source": [
        ""
      ],
      "metadata": {
        "id": "7QZNB-wNkXkb"
      }
    },
    {
      "cell_type": "code",
      "source": [
        "x_combined_sampling, y_combined_sampling = under_sampling.fit_resample(x_over, y_over)\n",
        "print(f'Combined sampled data: {Counter(y_combined_sampling)}')"
      ],
      "metadata": {
        "colab": {
          "base_uri": "https://localhost:8080/"
        },
        "id": "5RLB9CzSJBbN",
        "outputId": "a94ff6b0-d08a-4b3d-f042-00ea30287d23"
      },
      "execution_count": 42,
      "outputs": [
        {
          "output_type": "stream",
          "name": "stdout",
          "text": [
            "Combined sampled data: Counter({0: 193, 1: 155})\n"
          ]
        }
      ]
    },
    {
      "cell_type": "code",
      "source": [
        "# Novos 'x' e 'y' (balanceados):\n",
        "x = x_combined_sampling\n",
        "y = y_combined_sampling\n",
        "\n",
        "# Separação (treino, teste):\n",
        "x_train, x_test, y_train, y_test = train_test_split(x, y, test_size=0.2)"
      ],
      "metadata": {
        "id": "v5Qr5FacZDCE"
      },
      "execution_count": 43,
      "outputs": []
    },
    {
      "cell_type": "markdown",
      "source": [
        "# **4. Modelagem**\n",
        "\n",
        "Aqui será criado um modelo *baseline* (serve como base) de **Machine Learning**. Como o problem é de **classificação**, modelos classificação serão utilizados. Além disso, como temos rótulos nos dados de treino, temos um **aprendizado supervisionado**."
      ],
      "metadata": {
        "id": "0Dv-J1NBK4vS"
      }
    },
    {
      "cell_type": "code",
      "source": [
        "# configurações/bibliotecas necessárias:\n",
        "from sklearn.linear_model import LogisticRegression"
      ],
      "metadata": {
        "id": "G4s2CWTprEg6"
      },
      "execution_count": 44,
      "outputs": []
    },
    {
      "cell_type": "code",
      "source": [
        "modelo_reg_log = LogisticRegression()\n",
        "modelo_reg_log.fit(x_train, y_train)\n",
        "\n",
        "resultado = modelo_reg_log.score(x_test, y_test)\n",
        "\n",
        "resultado = round(resultado * 100, 2)\n",
        "print(f'Acurácia: {resultado}%')"
      ],
      "metadata": {
        "colab": {
          "base_uri": "https://localhost:8080/"
        },
        "id": "gH8R2m74rZDC",
        "outputId": "bc12584d-4101-46b4-d1ae-f766f2ec4c72"
      },
      "execution_count": 45,
      "outputs": [
        {
          "output_type": "stream",
          "name": "stdout",
          "text": [
            "Acurácia: 87.14%\n"
          ]
        }
      ]
    },
    {
      "cell_type": "markdown",
      "source": [
        "> **Fazendo predições**"
      ],
      "metadata": {
        "id": "MG-WEFWStYi6"
      }
    },
    {
      "cell_type": "code",
      "source": [
        "# nos dados de teste:\n",
        "y_predicted = modelo_reg_log.predict(x_test)"
      ],
      "metadata": {
        "id": "8m3t9_Ngtb1x"
      },
      "execution_count": 46,
      "outputs": []
    },
    {
      "cell_type": "markdown",
      "source": [
        "# **5. Avaliação do modelo**\n",
        "\n",
        "Aqui, o modelo criado será avaliado a partir de métricas de performance. Além disso, o impacto da solução proposta também é avaliado."
      ],
      "metadata": {
        "id": "YLZ508n_LwvT"
      }
    },
    {
      "cell_type": "code",
      "source": [
        "# Configurações/bibliotecas necessárias:\n",
        "from sklearn.metrics import confusion_matrix, classification_report"
      ],
      "metadata": {
        "id": "qop-CyOPtFC6"
      },
      "execution_count": 47,
      "outputs": []
    },
    {
      "cell_type": "markdown",
      "source": [
        "> **Matriz de confusão**"
      ],
      "metadata": {
        "id": "S3g_YD2UtNN8"
      }
    },
    {
      "cell_type": "code",
      "source": [
        "matriz_confusao = confusion_matrix(y_test, y_predicted)\n",
        "sns.heatmap(matriz_confusao, annot=True, cmap='Greys',\n",
        "            linecolor='k', lw=1.5);\n",
        "plt.xlabel('Real');\n",
        "plt.ylabel('Predito');\n",
        "plt.tight_layout()\n",
        "plt.savefig('Confusao_RegLog.png', dpi=600)"
      ],
      "metadata": {
        "colab": {
          "base_uri": "https://localhost:8080/",
          "height": 293
        },
        "id": "C0TheFbRtMWa",
        "outputId": "2a5df0a2-9073-458c-f3de-471a1bd43419"
      },
      "execution_count": 48,
      "outputs": [
        {
          "output_type": "display_data",
          "data": {
            "image/png": "[encoded data removed]",
            "text/plain": [
              "<Figure size 432x288 with 2 Axes>"
            ]
          },
          "metadata": {
            "needs_background": "light"
          }
        }
      ]
    },
    {
      "cell_type": "code",
      "source": [
        "print(classification_report(y_test, y_predicted))"
      ],
      "metadata": {
        "colab": {
          "base_uri": "https://localhost:8080/"
        },
        "id": "sVw8_pa1t_jr",
        "outputId": "20f87a2e-e7ba-4543-ebe2-f30139f30071"
      },
      "execution_count": 49,
      "outputs": [
        {
          "output_type": "stream",
          "name": "stdout",
          "text": [
            "              precision    recall  f1-score   support\n",
            "\n",
            "           0       0.89      0.87      0.88        39\n",
            "           1       0.84      0.87      0.86        31\n",
            "\n",
            "    accuracy                           0.87        70\n",
            "   macro avg       0.87      0.87      0.87        70\n",
            "weighted avg       0.87      0.87      0.87        70\n",
            "\n"
          ]
        }
      ]
    },
    {
      "cell_type": "markdown",
      "source": [
        "Dessa forma, as métricas são as seguintes:\n",
        "\n",
        "*   **Acurácia**: 87%\n",
        "*   **Precisão**: 87%\n",
        "*   **Sensibilidade (% taxa de acertos)**: 87%\n",
        "*   **Score F1 (média harmônica entre sensibilidade e especificidade)**: 87%\n",
        "\n"
      ],
      "metadata": {
        "id": "OO4yQdV9u5cd"
      }
    },
    {
      "cell_type": "markdown",
      "source": [
        "> **Calculando a ROC e a AUC (Area Under Curve)**"
      ],
      "metadata": {
        "id": "oUvgSLudEUal"
      }
    },
    {
      "cell_type": "code",
      "source": [
        "from sklearn.metrics import roc_curve\n",
        "from sklearn.metrics import auc\n",
        "\n",
        "# Compute fpr, tpr, thresholds and roc auc\n",
        "specificity, sensitivity, thresholds = roc_curve(y_test, y_predicted)\n",
        "roc_auc = auc(specificity, sensitivity)\n",
        "roc_auc = round(roc_auc, 2)\n",
        "\n",
        "# Plot ROC curve\n",
        "plt.plot(specificity, sensitivity, color= 'RoyalBlue', \n",
        "         lw=1.4, label=f'curva ROC (área = {roc_auc}%)')\n",
        "plt.plot([0, 1], [0, 1], '--', lw=1.4, color='k')  # random predictions curve\n",
        "plt.xlim([0.0, 1.0])\n",
        "plt.ylim([0.0, 1.0])\n",
        "plt.xlabel('Taxa de falsos positivos')\n",
        "plt.ylabel('Taxa de verdadeiros positivos')\n",
        "plt.title('Curva ROC', weight='bold')\n",
        "plt.legend(loc=\"lower right\");\n",
        "plt.tight_layout()\n",
        "plt.savefig('ROC_AUC.png', dpi=600)"
      ],
      "metadata": {
        "colab": {
          "base_uri": "https://localhost:8080/",
          "height": 293
        },
        "id": "6KLBakXOEaRq",
        "outputId": "59f4531d-17e7-4a3b-aa36-3a7c7aaed162"
      },
      "execution_count": 50,
      "outputs": [
        {
          "output_type": "display_data",
          "data": {
            "image/png": "[encoded data removed]",
            "text/plain": [
              "<Figure size 432x288 with 1 Axes>"
            ]
          },
          "metadata": {
            "needs_background": "light"
          }
        }
      ]
    },
    {
      "cell_type": "markdown",
      "source": [
        "# **6. Deploy**\n",
        "\n",
        "Nesta etapa, o modelo criado é implementado. Para isso, pode-se utilizar uma *aplicação web* criada com **Streamlit**"
      ],
      "metadata": {
        "id": "1uSnq5YsMKQu"
      }
    },
    {
      "cell_type": "code",
      "source": [
        "# Configurações/bibliotecas necessárias:\n",
        "import pickle"
      ],
      "metadata": {
        "id": "gnoep79zv6qB"
      },
      "execution_count": 51,
      "outputs": []
    },
    {
      "cell_type": "code",
      "source": [
        "# salvando o modelo:\n",
        "pickle.dump(modelo_reg_log, open('regressao_logistica.pkl', 'wb'))"
      ],
      "metadata": {
        "id": "8FaKoPGLvf0C"
      },
      "execution_count": 52,
      "outputs": []
    },
    {
      "cell_type": "code",
      "source": [
        "# carregando o modelo e salvando no objeto 'regressao_logistica':\n",
        "regressao_logistica = pickle.load(open('regressao_logistica.pkl', 'rb'))"
      ],
      "metadata": {
        "id": "d9DnNdYowDJO"
      },
      "execution_count": 53,
      "outputs": []
    },
    {
      "cell_type": "markdown",
      "source": [
        "> **Abrindo o *deploy*, desenvolvido em um script externo no VS Code**: [WEB-BASED APP](https://share.streamlit.io/oviedovr/predicaodiabetes/main/DeployDiabetes.py)."
      ],
      "metadata": {
        "id": "oqofosG9wRSb"
      }
    }
  ]
}